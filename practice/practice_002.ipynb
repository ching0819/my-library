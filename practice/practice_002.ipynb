{
 "cells": [
  {
   "cell_type": "markdown",
   "metadata": {},
   "source": [
    "# 常用的資料結構"
   ]
  },
  {
   "cell_type": "markdown",
   "metadata": {},
   "source": [
    "## DataFrame"
   ]
  },
  {
   "cell_type": "markdown",
   "metadata": {},
   "source": [
    "### 創建"
   ]
  },
  {
   "cell_type": "code",
   "execution_count": 1,
   "metadata": {},
   "outputs": [],
   "source": [
    "import pandas as pd"
   ]
  },
  {
   "cell_type": "code",
   "execution_count": 2,
   "metadata": {
    "scrolled": false
   },
   "outputs": [
    {
     "data": {
      "text/html": [
       "<div>\n",
       "<style scoped>\n",
       "    .dataframe tbody tr th:only-of-type {\n",
       "        vertical-align: middle;\n",
       "    }\n",
       "\n",
       "    .dataframe tbody tr th {\n",
       "        vertical-align: top;\n",
       "    }\n",
       "\n",
       "    .dataframe thead th {\n",
       "        text-align: right;\n",
       "    }\n",
       "</style>\n",
       "<table border=\"1\" class=\"dataframe\">\n",
       "  <thead>\n",
       "    <tr style=\"text-align: right;\">\n",
       "      <th></th>\n",
       "      <th>number</th>\n",
       "      <th>players</th>\n",
       "    </tr>\n",
       "  </thead>\n",
       "  <tbody>\n",
       "    <tr>\n",
       "      <th>0</th>\n",
       "      <td>9</td>\n",
       "      <td>Ron Harper</td>\n",
       "    </tr>\n",
       "    <tr>\n",
       "      <th>1</th>\n",
       "      <td>23</td>\n",
       "      <td>Michael Jordan</td>\n",
       "    </tr>\n",
       "    <tr>\n",
       "      <th>2</th>\n",
       "      <td>33</td>\n",
       "      <td>Scottie Pippen</td>\n",
       "    </tr>\n",
       "    <tr>\n",
       "      <th>3</th>\n",
       "      <td>91</td>\n",
       "      <td>Dennis Rodman</td>\n",
       "    </tr>\n",
       "    <tr>\n",
       "      <th>4</th>\n",
       "      <td>13</td>\n",
       "      <td>Luc Longley</td>\n",
       "    </tr>\n",
       "  </tbody>\n",
       "</table>\n",
       "</div>"
      ],
      "text/plain": [
       "   number         players\n",
       "0       9      Ron Harper\n",
       "1      23  Michael Jordan\n",
       "2      33  Scottie Pippen\n",
       "3      91   Dennis Rodman\n",
       "4      13     Luc Longley"
      ]
     },
     "execution_count": 2,
     "metadata": {},
     "output_type": "execute_result"
    }
   ],
   "source": [
    "numbers = [9, 23, 33, 91, 13]\n",
    "players = [\"Ron Harper\", \"Michael Jordan\", \"Scottie Pippen\", \"Dennis Rodman\", \"Luc Longley\"]\n",
    "df = pd.DataFrame() #建立一張空的DataFrame\n",
    "df[\"number\"] = numbers #新增'number'欄位，並填入值\n",
    "df[\"players\"] = players\n",
    "df"
   ]
  },
  {
   "cell_type": "code",
   "execution_count": 3,
   "metadata": {},
   "outputs": [],
   "source": [
    "### 解構"
   ]
  },
  {
   "cell_type": "code",
   "execution_count": 4,
   "metadata": {},
   "outputs": [
    {
     "name": "stdout",
     "output_type": "stream",
     "text": [
      "0        Ron Harper\n",
      "1    Michael Jordan\n",
      "2    Scottie Pippen\n",
      "3     Dennis Rodman\n",
      "4       Luc Longley\n",
      "Name: players, dtype: object\n",
      "<class 'pandas.core.series.Series'>\n",
      "\n",
      "\n",
      "['Ron Harper' 'Michael Jordan' 'Scottie Pippen' 'Dennis Rodman'\n",
      " 'Luc Longley']\n",
      "<class 'numpy.ndarray'>\n"
     ]
    }
   ],
   "source": [
    "print(df[\"players\"])              # 解構為 Series\n",
    "print(type(df[\"players\"]))\n",
    "print('\\n')\n",
    "print(df[\"players\"].values)       # 解構為 ndarray\n",
    "print(type(df[\"players\"].values))"
   ]
  },
  {
   "cell_type": "markdown",
   "metadata": {},
   "source": [
    "### 讀取特定欄位\n",
    "**.iloc[]**"
   ]
  },
  {
   "cell_type": "code",
   "execution_count": 5,
   "metadata": {
    "scrolled": true
   },
   "outputs": [
    {
     "name": "stdout",
     "output_type": "stream",
     "text": [
      "Michael Jordan\n"
     ]
    }
   ],
   "source": [
    "mj = df.iloc[1, 1]     # Michael Jordan 位於 (1, 1)\n",
    "print(mj)"
   ]
  },
  {
   "cell_type": "markdown",
   "metadata": {},
   "source": [
    "### 用篩選方式讀取特定欄位\n",
    "**.isin()**"
   ]
  },
  {
   "cell_type": "code",
   "execution_count": 6,
   "metadata": {},
   "outputs": [
    {
     "name": "stdout",
     "output_type": "stream",
     "text": [
      "0    False\n",
      "1     True\n",
      "2     True\n",
      "3     True\n",
      "4    False\n",
      "Name: number, dtype: bool\n"
     ]
    },
    {
     "data": {
      "text/html": [
       "<div>\n",
       "<style scoped>\n",
       "    .dataframe tbody tr th:only-of-type {\n",
       "        vertical-align: middle;\n",
       "    }\n",
       "\n",
       "    .dataframe tbody tr th {\n",
       "        vertical-align: top;\n",
       "    }\n",
       "\n",
       "    .dataframe thead th {\n",
       "        text-align: right;\n",
       "    }\n",
       "</style>\n",
       "<table border=\"1\" class=\"dataframe\">\n",
       "  <thead>\n",
       "    <tr style=\"text-align: right;\">\n",
       "      <th></th>\n",
       "      <th>number</th>\n",
       "      <th>players</th>\n",
       "    </tr>\n",
       "  </thead>\n",
       "  <tbody>\n",
       "    <tr>\n",
       "      <th>1</th>\n",
       "      <td>23</td>\n",
       "      <td>Michael Jordan</td>\n",
       "    </tr>\n",
       "    <tr>\n",
       "      <th>2</th>\n",
       "      <td>33</td>\n",
       "      <td>Scottie Pippen</td>\n",
       "    </tr>\n",
       "    <tr>\n",
       "      <th>3</th>\n",
       "      <td>91</td>\n",
       "      <td>Dennis Rodman</td>\n",
       "    </tr>\n",
       "  </tbody>\n",
       "</table>\n",
       "</div>"
      ],
      "text/plain": [
       "   number         players\n",
       "1      23  Michael Jordan\n",
       "2      33  Scottie Pippen\n",
       "3      91   Dennis Rodman"
      ]
     },
     "execution_count": 6,
     "metadata": {},
     "output_type": "execute_result"
    }
   ],
   "source": [
    "#把號碼是23、33、91的選起來\n",
    "trio = df[\"number\"].isin([23, 33, 91])\n",
    "print(trio)\n",
    "df[trio]"
   ]
  },
  {
   "cell_type": "markdown",
   "metadata": {},
   "source": [
    "## List / Dict\n",
    "\n",
    "dict就是有命名的list  "
   ]
  },
  {
   "cell_type": "markdown",
   "metadata": {},
   "source": [
    "### 創建"
   ]
  },
  {
   "cell_type": "code",
   "execution_count": 7,
   "metadata": {
    "scrolled": true
   },
   "outputs": [
    {
     "name": "stdout",
     "output_type": "stream",
     "text": [
      "['Chicago Bulls', '1995-96', {'wins': 72, 'losses': 10}, 'Phil Jackson', ['Jim Cleamons', 'John Paxson', 'Jimmy Rodgers', 'Tex Winter'], {'SF': 'Scottie Pippen', 'SG': 'Michael Jordan', 'PG': 'Ron Harper', 'C': 'Luc Longley', 'PF': 'Dennis Rodman'}]\n",
      "<class 'list'>\n",
      "\n",
      "\n",
      "{'season': '1995-96', 'starting_lineups': {'SF': 'Scottie Pippen', 'SG': 'Michael Jordan', 'PG': 'Ron Harper', 'C': 'Luc Longley', 'PF': 'Dennis Rodman'}, 'team_name': 'Chicago Bulls', 'assistant_coach': ['Jim Cleamons', 'John Paxson', 'Jimmy Rodgers', 'Tex Winter'], 'records': {'wins': 72, 'losses': 10}, 'coach': 'Phil Jackson'}\n",
      "<class 'dict'>\n"
     ]
    }
   ],
   "source": [
    "team_name = \"Chicago Bulls\"\n",
    "season = \"1995-96\"\n",
    "records = {\n",
    "    \"wins\": 72,\n",
    "    \"losses\": 10\n",
    "}\n",
    "coach = \"Phil Jackson\"\n",
    "assistant_coach = [\"Jim Cleamons\", \"John Paxson\", \"Jimmy Rodgers\", \"Tex Winter\"]\n",
    "starting_lineups = {\n",
    "    \"PG\": \"Ron Harper\",\n",
    "    \"SG\": \"Michael Jordan\",\n",
    "    \"SF\": \"Scottie Pippen\",\n",
    "    \"PF\": \"Dennis Rodman\",\n",
    "    \"C\": \"Luc Longley\"\n",
    "}\n",
    "\n",
    "# 以 list 儲存\n",
    "cb_list = [team_name, season, records, coach, assistant_coach, starting_lineups]\n",
    "# 以 dict 儲存\n",
    "cb_dict = {\n",
    "    \"team_name\": team_name,\n",
    "    \"season\": season,\n",
    "    \"records\": records,\n",
    "    \"coach\": coach,\n",
    "    \"assistant_coach\": assistant_coach,\n",
    "    \"starting_lineups\": starting_lineups\n",
    "}\n",
    "print(cb_list)\n",
    "print(type(cb_list))\n",
    "print('\\n')\n",
    "print(cb_dict)\n",
    "print(type(cb_dict))"
   ]
  },
  {
   "cell_type": "markdown",
   "metadata": {},
   "source": [
    "### 選取\n",
    "用list選取資料時，需寫入位置   \n",
    "而用dict選取資料時，可以用名字來索引"
   ]
  },
  {
   "cell_type": "code",
   "execution_count": 8,
   "metadata": {},
   "outputs": [
    {
     "name": "stdout",
     "output_type": "stream",
     "text": [
      "John Paxson\n",
      "Michael Jordan\n"
     ]
    }
   ],
   "source": [
    "print(cb_list[-2][1])                    # 選出助理教練 John Paxson\n",
    "print(cb_dict[\"starting_lineups\"][\"SG\"]) # 選出 Michael Jordan"
   ]
  },
  {
   "cell_type": "markdown",
   "metadata": {},
   "source": [
    "### 新增欄位\n",
    "list: **.append**  \n",
    "dict: **[\"欄位名稱\"] = 數值**"
   ]
  },
  {
   "cell_type": "code",
   "execution_count": 9,
   "metadata": {},
   "outputs": [
    {
     "name": "stdout",
     "output_type": "stream",
     "text": [
      "True\n",
      "True\n"
     ]
    }
   ],
   "source": [
    "# 新增欄位\"是否獲得總冠軍\"\n",
    "is_champion = True\n",
    "cb_list.append(is_champion)\n",
    "cb_dict[\"is_champion\"] = is_champion\n",
    "print(cb_list[-1])            # 確認新增成功\n",
    "print(cb_dict[\"is_champion\"]) # 確認新增成功"
   ]
  },
  {
   "cell_type": "markdown",
   "metadata": {},
   "source": [
    "### 更改數值"
   ]
  },
  {
   "cell_type": "code",
   "execution_count": 10,
   "metadata": {},
   "outputs": [
    {
     "name": "stdout",
     "output_type": "stream",
     "text": [
      "{'wins': 72, 'winning_percent': '87.80%', 'losses': 10}\n",
      "{'wins': 72, 'winning_percent': '87.80%', 'losses': 10}\n"
     ]
    }
   ],
   "source": [
    "# 更新戰績\n",
    "new_records = {\n",
    "    \"wins\": 72,\n",
    "    \"losses\": 10,\n",
    "    \"winning_percent\": \"{0:.2f}%\".format(72/82*100)\n",
    "}\n",
    "cb_list[2] = new_records\n",
    "cb_dict[\"records\"] = new_records\n",
    "print(cb_list[2])         # 確定更新成功\n",
    "print(cb_dict[\"records\"]) # 確定更新成功"
   ]
  },
  {
   "cell_type": "markdown",
   "metadata": {},
   "source": [
    "### 迭代索引\n",
    "list: **enumerate()**  \n",
    "dict: **.items()**"
   ]
  },
  {
   "cell_type": "code",
   "execution_count": 11,
   "metadata": {},
   "outputs": [
    {
     "name": "stdout",
     "output_type": "stream",
     "text": [
      "位於索引值 0 的元素是：\n",
      "Chicago Bulls\n",
      "位於索引值 1 的元素是：\n",
      "1995-96\n",
      "位於索引值 2 的元素是：\n",
      "{'wins': 72, 'winning_percent': '87.80%', 'losses': 10}\n",
      "位於索引值 3 的元素是：\n",
      "Phil Jackson\n",
      "位於索引值 4 的元素是：\n",
      "['Jim Cleamons', 'John Paxson', 'Jimmy Rodgers', 'Tex Winter']\n",
      "位於索引值 5 的元素是：\n",
      "{'SF': 'Scottie Pippen', 'SG': 'Michael Jordan', 'PG': 'Ron Harper', 'C': 'Luc Longley', 'PF': 'Dennis Rodman'}\n",
      "位於索引值 6 的元素是：\n",
      "True\n",
      "============\n",
      "位於標籤 season 的值是：\n",
      "1995-96\n",
      "位於標籤 starting_lineups 的值是：\n",
      "{'SF': 'Scottie Pippen', 'SG': 'Michael Jordan', 'PG': 'Ron Harper', 'C': 'Luc Longley', 'PF': 'Dennis Rodman'}\n",
      "位於標籤 team_name 的值是：\n",
      "Chicago Bulls\n",
      "位於標籤 assistant_coach 的值是：\n",
      "['Jim Cleamons', 'John Paxson', 'Jimmy Rodgers', 'Tex Winter']\n",
      "位於標籤 is_champion 的值是：\n",
      "True\n",
      "位於標籤 records 的值是：\n",
      "{'wins': 72, 'winning_percent': '87.80%', 'losses': 10}\n",
      "位於標籤 coach 的值是：\n",
      "Phil Jackson\n"
     ]
    }
   ],
   "source": [
    "# 迭代 list\n",
    "for idx, elem in enumerate(cb_list):\n",
    "    print(\"位於索引值 {} 的元素是：\".format(idx))\n",
    "    print(elem)\n",
    "print(\"============\")\n",
    "# 迭代 dict\n",
    "for key, value in cb_dict.items():\n",
    "    print(\"位於標籤 {} 的值是：\".format(key))\n",
    "    print(value)"
   ]
  }
 ],
 "metadata": {
  "kernelspec": {
   "display_name": "Python 3",
   "language": "python",
   "name": "python3"
  },
  "language_info": {
   "codemirror_mode": {
    "name": "ipython",
    "version": 3
   },
   "file_extension": ".py",
   "mimetype": "text/x-python",
   "name": "python",
   "nbconvert_exporter": "python",
   "pygments_lexer": "ipython3",
   "version": "3.5.5"
  }
 },
 "nbformat": 4,
 "nbformat_minor": 2
}
