{
 "cells": [
  {
   "cell_type": "markdown",
   "metadata": {},
   "source": [
    "# 基礎資料視覺化\n",
    "註: 所有案例的方法二，皆是讓程式比較乾淨的寫法  \n",
    "\n",
    "**import matplotlib.pyplot as plt**  \n",
    "* 長條圖: plt.bar()\n",
    "* 直方圖: plt.hist()\n",
    "* 盒鬚圖: plt.boxplot()\n",
    "* 散點圖: plt.scatter()\n",
    "* 線圖: plt.line()"
   ]
  },
  {
   "cell_type": "code",
   "execution_count": 1,
   "metadata": {},
   "outputs": [],
   "source": [
    "import pandas as pd\n",
    "import numpy as np\n",
    "import matplotlib.pyplot as plt"
   ]
  },
  {
   "cell_type": "code",
   "execution_count": 2,
   "metadata": {
    "scrolled": true
   },
   "outputs": [
    {
     "data": {
      "text/html": [
       "<div>\n",
       "<style scoped>\n",
       "    .dataframe tbody tr th:only-of-type {\n",
       "        vertical-align: middle;\n",
       "    }\n",
       "\n",
       "    .dataframe tbody tr th {\n",
       "        vertical-align: top;\n",
       "    }\n",
       "\n",
       "    .dataframe thead th {\n",
       "        text-align: right;\n",
       "    }\n",
       "</style>\n",
       "<table border=\"1\" class=\"dataframe\">\n",
       "  <thead>\n",
       "    <tr style=\"text-align: right;\">\n",
       "      <th></th>\n",
       "      <th>No.</th>\n",
       "      <th>Player</th>\n",
       "      <th>Pos</th>\n",
       "      <th>Ht</th>\n",
       "      <th>Wt</th>\n",
       "      <th>Birth Date</th>\n",
       "      <th>College</th>\n",
       "    </tr>\n",
       "  </thead>\n",
       "  <tbody>\n",
       "    <tr>\n",
       "      <th>0</th>\n",
       "      <td>0</td>\n",
       "      <td>Randy Brown</td>\n",
       "      <td>PG</td>\n",
       "      <td>6-2</td>\n",
       "      <td>190</td>\n",
       "      <td>May 22, 1968</td>\n",
       "      <td>University of Houston, New Mexico State Univer...</td>\n",
       "    </tr>\n",
       "    <tr>\n",
       "      <th>1</th>\n",
       "      <td>30</td>\n",
       "      <td>Jud Buechler</td>\n",
       "      <td>SF</td>\n",
       "      <td>6-6</td>\n",
       "      <td>220</td>\n",
       "      <td>June 19, 1968</td>\n",
       "      <td>University of Arizona</td>\n",
       "    </tr>\n",
       "    <tr>\n",
       "      <th>2</th>\n",
       "      <td>35</td>\n",
       "      <td>Jason Caffey</td>\n",
       "      <td>PF</td>\n",
       "      <td>6-8</td>\n",
       "      <td>255</td>\n",
       "      <td>June 12, 1973</td>\n",
       "      <td>University of Alabama</td>\n",
       "    </tr>\n",
       "    <tr>\n",
       "      <th>3</th>\n",
       "      <td>53</td>\n",
       "      <td>James Edwards</td>\n",
       "      <td>C</td>\n",
       "      <td>7-0</td>\n",
       "      <td>225</td>\n",
       "      <td>November 22, 1955</td>\n",
       "      <td>University of Washington</td>\n",
       "    </tr>\n",
       "    <tr>\n",
       "      <th>4</th>\n",
       "      <td>54</td>\n",
       "      <td>Jack Haley</td>\n",
       "      <td>C</td>\n",
       "      <td>6-10</td>\n",
       "      <td>240</td>\n",
       "      <td>January 27, 1964</td>\n",
       "      <td>University of California, Los Angeles</td>\n",
       "    </tr>\n",
       "    <tr>\n",
       "      <th>5</th>\n",
       "      <td>9</td>\n",
       "      <td>Ron Harper</td>\n",
       "      <td>PG</td>\n",
       "      <td>6-6</td>\n",
       "      <td>185</td>\n",
       "      <td>January 20, 1964</td>\n",
       "      <td>Miami University</td>\n",
       "    </tr>\n",
       "    <tr>\n",
       "      <th>6</th>\n",
       "      <td>23</td>\n",
       "      <td>Michael Jordan</td>\n",
       "      <td>SG</td>\n",
       "      <td>6-6</td>\n",
       "      <td>195</td>\n",
       "      <td>February 17, 1963</td>\n",
       "      <td>University of North Carolina</td>\n",
       "    </tr>\n",
       "    <tr>\n",
       "      <th>7</th>\n",
       "      <td>25</td>\n",
       "      <td>Steve Kerr</td>\n",
       "      <td>PG</td>\n",
       "      <td>6-3</td>\n",
       "      <td>175</td>\n",
       "      <td>September 27, 1965</td>\n",
       "      <td>University of Arizona</td>\n",
       "    </tr>\n",
       "    <tr>\n",
       "      <th>8</th>\n",
       "      <td>7</td>\n",
       "      <td>Toni Kukoc</td>\n",
       "      <td>SF</td>\n",
       "      <td>6-10</td>\n",
       "      <td>192</td>\n",
       "      <td>September 18, 1968</td>\n",
       "      <td>NaN</td>\n",
       "    </tr>\n",
       "    <tr>\n",
       "      <th>9</th>\n",
       "      <td>13</td>\n",
       "      <td>Luc Longley</td>\n",
       "      <td>C</td>\n",
       "      <td>7-2</td>\n",
       "      <td>265</td>\n",
       "      <td>January 19, 1969</td>\n",
       "      <td>University of New Mexico</td>\n",
       "    </tr>\n",
       "    <tr>\n",
       "      <th>10</th>\n",
       "      <td>33</td>\n",
       "      <td>Scottie Pippen</td>\n",
       "      <td>SF</td>\n",
       "      <td>6-8</td>\n",
       "      <td>210</td>\n",
       "      <td>September 25, 1965</td>\n",
       "      <td>University of Central Arkansas</td>\n",
       "    </tr>\n",
       "    <tr>\n",
       "      <th>11</th>\n",
       "      <td>91</td>\n",
       "      <td>Dennis Rodman</td>\n",
       "      <td>PF</td>\n",
       "      <td>6-7</td>\n",
       "      <td>210</td>\n",
       "      <td>May 13, 1961</td>\n",
       "      <td>Southeastern Oklahoma State University</td>\n",
       "    </tr>\n",
       "    <tr>\n",
       "      <th>12</th>\n",
       "      <td>22</td>\n",
       "      <td>John Salley</td>\n",
       "      <td>PF</td>\n",
       "      <td>6-11</td>\n",
       "      <td>230</td>\n",
       "      <td>May 16, 1964</td>\n",
       "      <td>Georgia Institute of Technology</td>\n",
       "    </tr>\n",
       "    <tr>\n",
       "      <th>13</th>\n",
       "      <td>8</td>\n",
       "      <td>Dickey Simpkins</td>\n",
       "      <td>PF</td>\n",
       "      <td>6-9</td>\n",
       "      <td>248</td>\n",
       "      <td>April 6, 1972</td>\n",
       "      <td>Providence College</td>\n",
       "    </tr>\n",
       "    <tr>\n",
       "      <th>14</th>\n",
       "      <td>34</td>\n",
       "      <td>Bill Wennington</td>\n",
       "      <td>C</td>\n",
       "      <td>7-0</td>\n",
       "      <td>245</td>\n",
       "      <td>April 26, 1963</td>\n",
       "      <td>St. John's University</td>\n",
       "    </tr>\n",
       "  </tbody>\n",
       "</table>\n",
       "</div>"
      ],
      "text/plain": [
       "    No.           Player Pos    Ht   Wt          Birth Date  \\\n",
       "0     0      Randy Brown  PG   6-2  190        May 22, 1968   \n",
       "1    30     Jud Buechler  SF   6-6  220       June 19, 1968   \n",
       "2    35     Jason Caffey  PF   6-8  255       June 12, 1973   \n",
       "3    53    James Edwards   C   7-0  225   November 22, 1955   \n",
       "4    54       Jack Haley   C  6-10  240    January 27, 1964   \n",
       "5     9       Ron Harper  PG   6-6  185    January 20, 1964   \n",
       "6    23   Michael Jordan  SG   6-6  195   February 17, 1963   \n",
       "7    25       Steve Kerr  PG   6-3  175  September 27, 1965   \n",
       "8     7       Toni Kukoc  SF  6-10  192  September 18, 1968   \n",
       "9    13      Luc Longley   C   7-2  265    January 19, 1969   \n",
       "10   33   Scottie Pippen  SF   6-8  210  September 25, 1965   \n",
       "11   91    Dennis Rodman  PF   6-7  210        May 13, 1961   \n",
       "12   22      John Salley  PF  6-11  230        May 16, 1964   \n",
       "13    8  Dickey Simpkins  PF   6-9  248       April 6, 1972   \n",
       "14   34  Bill Wennington   C   7-0  245      April 26, 1963   \n",
       "\n",
       "                                              College  \n",
       "0   University of Houston, New Mexico State Univer...  \n",
       "1                               University of Arizona  \n",
       "2                               University of Alabama  \n",
       "3                            University of Washington  \n",
       "4               University of California, Los Angeles  \n",
       "5                                    Miami University  \n",
       "6                        University of North Carolina  \n",
       "7                               University of Arizona  \n",
       "8                                                 NaN  \n",
       "9                            University of New Mexico  \n",
       "10                     University of Central Arkansas  \n",
       "11             Southeastern Oklahoma State University  \n",
       "12                    Georgia Institute of Technology  \n",
       "13                                 Providence College  \n",
       "14                              St. John's University  "
      ]
     },
     "execution_count": 2,
     "metadata": {},
     "output_type": "execute_result"
    }
   ],
   "source": [
    "#讀檔:1995-1996年球季中芝加哥公牛隊資料\n",
    "csv_url = \"https://storage.googleapis.com/ds_data_import/chicago_bulls_1995_1996.csv\"\n",
    "df = pd.read_csv(csv_url)\n",
    "df"
   ]
  },
  {
   "cell_type": "markdown",
   "metadata": {},
   "source": [
    "## 案例1：一組文字資料(類別變數)的相異觀測數量\n",
    "\n",
    "例如:想知道1995-1996年球季中芝加哥公牛隊**球隊各衝鋒位置的人數**  \n",
    "依照類別分組 >> 計算數量 >> 畫長條圖  "
   ]
  },
  {
   "cell_type": "code",
   "execution_count": 3,
   "metadata": {},
   "outputs": [
    {
     "data": {
      "text/plain": [
       "Pos\n",
       "C     4\n",
       "PF    4\n",
       "PG    3\n",
       "SF    3\n",
       "SG    1\n",
       "Name: Pos, dtype: int64"
      ]
     },
     "execution_count": 3,
     "metadata": {},
     "output_type": "execute_result"
    }
   ],
   "source": [
    "grouped = df.groupby(\"Pos\") #以\"衝鋒位置\"分組\n",
    "pos = grouped[\"Pos\"].count() #計算數量\n",
    "pos"
   ]
  },
  {
   "cell_type": "code",
   "execution_count": 4,
   "metadata": {},
   "outputs": [
    {
     "data": {
      "image/png": "[encoded data removed]",
      "text/plain": [
       "<Figure size 432x288 with 1 Axes>"
      ]
     },
     "metadata": {
      "needs_background": "light"
     },
     "output_type": "display_data"
    }
   ],
   "source": [
    "#方法一\n",
    "plt.bar([1, 2, 3, 4, 5], pos)\n",
    "plt.xticks([1, 2, 3, 4, 5], pos.index)\n",
    "plt.yticks([1, 2, 3, 4], [1, 2, 3, 4])\n",
    "plt.show()"
   ]
  },
  {
   "cell_type": "code",
   "execution_count": 5,
   "metadata": {
    "scrolled": false
   },
   "outputs": [
    {
     "data": {
      "image/png": "[encoded data removed]",
      "text/plain": [
       "<Figure size 432x288 with 1 Axes>"
      ]
     },
     "metadata": {
      "needs_background": "light"
     },
     "output_type": "display_data"
    }
   ],
   "source": [
    "#方法二\n",
    "pos.plot.bar()\n",
    "plt.yticks([1, 2, 3, 4], [1, 2, 3, 4])\n",
    "plt.show()"
   ]
  },
  {
   "cell_type": "markdown",
   "metadata": {},
   "source": [
    "## 案例2：一組數值資料依照類別分組排序\n",
    "\n",
    "例如:想知道1995-1996年球季中芝加哥公牛隊**各衝鋒位置的平均每場得分**  \n",
    "依照類別分組 >> 算平均分數 >> 會長條圖  "
   ]
  },
  {
   "cell_type": "code",
   "execution_count": 6,
   "metadata": {
    "scrolled": false
   },
   "outputs": [
    {
     "name": "stdout",
     "output_type": "stream",
     "text": [
      "   Rk            Name  Age   G  GS    MP    FG   FGA    FG%   3P  ...    FT%  \\\n",
      "0   1  Michael Jordan   32  82  82  37.7  11.2  22.6  0.495  1.4  ...  0.834   \n",
      "1   2  Scottie Pippen   30  77  77  36.7   7.3  15.8  0.463  1.9  ...  0.679   \n",
      "2   3   Dennis Rodman   34  64  57  32.6   2.3   4.8  0.480  0.0  ...  0.528   \n",
      "\n",
      "   ORB  DRB   TRB  AST  STL  BLK  TOV   PF  PTS/G  \n",
      "0  1.8  4.8   6.6  4.3  2.2  0.5  2.4  2.4   30.4  \n",
      "1  2.0  4.5   6.4  5.9  1.7  0.7  2.7  2.6   19.4  \n",
      "2  5.6  9.3  14.9  2.5  0.6  0.4  2.2  3.1    5.5  \n",
      "\n",
      "[3 rows x 28 columns]\n",
      "   No.        Player Pos   Ht   Wt     Birth Date  \\\n",
      "0    0   Randy Brown  PG  6-2  190   May 22, 1968   \n",
      "1   30  Jud Buechler  SF  6-6  220  June 19, 1968   \n",
      "2   35  Jason Caffey  PF  6-8  255  June 12, 1973   \n",
      "\n",
      "                                             College  \n",
      "0  University of Houston, New Mexico State Univer...  \n",
      "1                              University of Arizona  \n",
      "2                              University of Alabama  \n"
     ]
    }
   ],
   "source": [
    "#讀取檔案、並整理\n",
    "per_game_url = \"https://storage.googleapis.com/ds_data_import/stats_per_game_chicago_bulls_1995_1996.csv\"\n",
    "player_info_url = \"https://storage.googleapis.com/ds_data_import/chicago_bulls_1995_1996.csv\"\n",
    "per_game = pd.read_csv(per_game_url)\n",
    "player_info = pd.read_csv(player_info_url)\n",
    "print(per_game.head(3))\n",
    "print(player_info.head(3))"
   ]
  },
  {
   "cell_type": "code",
   "execution_count": 7,
   "metadata": {},
   "outputs": [
    {
     "data": {
      "text/html": [
       "<div>\n",
       "<style scoped>\n",
       "    .dataframe tbody tr th:only-of-type {\n",
       "        vertical-align: middle;\n",
       "    }\n",
       "\n",
       "    .dataframe tbody tr th {\n",
       "        vertical-align: top;\n",
       "    }\n",
       "\n",
       "    .dataframe thead th {\n",
       "        text-align: right;\n",
       "    }\n",
       "</style>\n",
       "<table border=\"1\" class=\"dataframe\">\n",
       "  <thead>\n",
       "    <tr style=\"text-align: right;\">\n",
       "      <th></th>\n",
       "      <th>No.</th>\n",
       "      <th>Player</th>\n",
       "      <th>Pos</th>\n",
       "      <th>Ht</th>\n",
       "      <th>Wt</th>\n",
       "      <th>Birth Date</th>\n",
       "      <th>College</th>\n",
       "      <th>Name</th>\n",
       "      <th>PTS/G</th>\n",
       "    </tr>\n",
       "  </thead>\n",
       "  <tbody>\n",
       "    <tr>\n",
       "      <th>0</th>\n",
       "      <td>0</td>\n",
       "      <td>Randy Brown</td>\n",
       "      <td>PG</td>\n",
       "      <td>6-2</td>\n",
       "      <td>190</td>\n",
       "      <td>May 22, 1968</td>\n",
       "      <td>University of Houston, New Mexico State Univer...</td>\n",
       "      <td>Randy Brown</td>\n",
       "      <td>2.7</td>\n",
       "    </tr>\n",
       "    <tr>\n",
       "      <th>1</th>\n",
       "      <td>30</td>\n",
       "      <td>Jud Buechler</td>\n",
       "      <td>SF</td>\n",
       "      <td>6-6</td>\n",
       "      <td>220</td>\n",
       "      <td>June 19, 1968</td>\n",
       "      <td>University of Arizona</td>\n",
       "      <td>Jud Buechler</td>\n",
       "      <td>3.8</td>\n",
       "    </tr>\n",
       "    <tr>\n",
       "      <th>2</th>\n",
       "      <td>35</td>\n",
       "      <td>Jason Caffey</td>\n",
       "      <td>PF</td>\n",
       "      <td>6-8</td>\n",
       "      <td>255</td>\n",
       "      <td>June 12, 1973</td>\n",
       "      <td>University of Alabama</td>\n",
       "      <td>Jason Caffey</td>\n",
       "      <td>3.2</td>\n",
       "    </tr>\n",
       "  </tbody>\n",
       "</table>\n",
       "</div>"
      ],
      "text/plain": [
       "   No.        Player Pos   Ht   Wt     Birth Date  \\\n",
       "0    0   Randy Brown  PG  6-2  190   May 22, 1968   \n",
       "1   30  Jud Buechler  SF  6-6  220  June 19, 1968   \n",
       "2   35  Jason Caffey  PF  6-8  255  June 12, 1973   \n",
       "\n",
       "                                             College          Name  PTS/G  \n",
       "0  University of Houston, New Mexico State Univer...   Randy Brown    2.7  \n",
       "1                              University of Arizona  Jud Buechler    3.8  \n",
       "2                              University of Alabama  Jason Caffey    3.2  "
      ]
     },
     "execution_count": 7,
     "metadata": {},
     "output_type": "execute_result"
    }
   ],
   "source": [
    "df = pd.merge(player_info, per_game[[\"Name\", \"PTS/G\"]], left_on=\"Player\", right_on=\"Name\")\n",
    "df.head(3)"
   ]
  },
  {
   "cell_type": "code",
   "execution_count": 8,
   "metadata": {},
   "outputs": [],
   "source": [
    "grouped = df.groupby(\"Pos\") #依照類別分組\n",
    "points_per_game = grouped[\"PTS/G\"].mean() #算平均得分"
   ]
  },
  {
   "cell_type": "code",
   "execution_count": 9,
   "metadata": {
    "scrolled": true
   },
   "outputs": [
    {
     "data": {
      "image/png": "[encoded data removed]",
      "text/plain": [
       "<Figure size 432x288 with 1 Axes>"
      ]
     },
     "metadata": {
      "needs_background": "light"
     },
     "output_type": "display_data"
    }
   ],
   "source": [
    "#方法一\n",
    "plt.bar([1, 2, 3, 4, 5], points_per_game)\n",
    "plt.xticks([1, 2, 3, 4, 5], points_per_game.index)\n",
    "plt.show()"
   ]
  },
  {
   "cell_type": "code",
   "execution_count": 10,
   "metadata": {},
   "outputs": [
    {
     "data": {
      "image/png": "[encoded data removed]",
      "text/plain": [
       "<Figure size 432x288 with 1 Axes>"
      ]
     },
     "metadata": {
      "needs_background": "light"
     },
     "output_type": "display_data"
    }
   ],
   "source": [
    "#方法二\n",
    "points_per_game.plot.bar()\n",
    "plt.show()"
   ]
  },
  {
   "cell_type": "markdown",
   "metadata": {},
   "source": [
    "## 案例3：一組數值資料的分布\n",
    "\n",
    "例如: 想知道NBA球員**年薪分布概況**  "
   ]
  },
  {
   "cell_type": "code",
   "execution_count": 11,
   "metadata": {},
   "outputs": [],
   "source": [
    "from pyquery import PyQuery as pq\n",
    "import pandas as pd\n",
    "import matplotlib.pyplot as plt"
   ]
  },
  {
   "cell_type": "code",
   "execution_count": 12,
   "metadata": {},
   "outputs": [
    {
     "data": {
      "text/html": [
       "<div>\n",
       "<style scoped>\n",
       "    .dataframe tbody tr th:only-of-type {\n",
       "        vertical-align: middle;\n",
       "    }\n",
       "\n",
       "    .dataframe tbody tr th {\n",
       "        vertical-align: top;\n",
       "    }\n",
       "\n",
       "    .dataframe thead th {\n",
       "        text-align: right;\n",
       "    }\n",
       "</style>\n",
       "<table border=\"1\" class=\"dataframe\">\n",
       "  <thead>\n",
       "    <tr style=\"text-align: right;\">\n",
       "      <th></th>\n",
       "      <th>player</th>\n",
       "      <th>pos</th>\n",
       "      <th>salary</th>\n",
       "    </tr>\n",
       "  </thead>\n",
       "  <tbody>\n",
       "    <tr>\n",
       "      <th>0</th>\n",
       "      <td>Stephen Curry</td>\n",
       "      <td>Point Guard</td>\n",
       "      <td>40231758</td>\n",
       "    </tr>\n",
       "    <tr>\n",
       "      <th>1</th>\n",
       "      <td>Chris Paul</td>\n",
       "      <td>Point Guard</td>\n",
       "      <td>38506482</td>\n",
       "    </tr>\n",
       "    <tr>\n",
       "      <th>2</th>\n",
       "      <td>Russell Westbrook</td>\n",
       "      <td>Point Guard</td>\n",
       "      <td>38506482</td>\n",
       "    </tr>\n",
       "    <tr>\n",
       "      <th>3</th>\n",
       "      <td>James Harden</td>\n",
       "      <td>Shooting Guard</td>\n",
       "      <td>38199000</td>\n",
       "    </tr>\n",
       "    <tr>\n",
       "      <th>4</th>\n",
       "      <td>Kevin Durant</td>\n",
       "      <td>Small Forward</td>\n",
       "      <td>38199000</td>\n",
       "    </tr>\n",
       "    <tr>\n",
       "      <th>...</th>\n",
       "      <td>...</td>\n",
       "      <td>...</td>\n",
       "      <td>...</td>\n",
       "    </tr>\n",
       "    <tr>\n",
       "      <th>95</th>\n",
       "      <td>Michael Kidd-Gilchrist</td>\n",
       "      <td>Small Forward</td>\n",
       "      <td>13000000</td>\n",
       "    </tr>\n",
       "    <tr>\n",
       "      <th>96</th>\n",
       "      <td>Thaddeus Young</td>\n",
       "      <td>Power Forward</td>\n",
       "      <td>12900000</td>\n",
       "    </tr>\n",
       "    <tr>\n",
       "      <th>97</th>\n",
       "      <td>Will Barton</td>\n",
       "      <td>Shooting Guard</td>\n",
       "      <td>12776786</td>\n",
       "    </tr>\n",
       "    <tr>\n",
       "      <th>98</th>\n",
       "      <td>Courtney Lee</td>\n",
       "      <td>Shooting Guard</td>\n",
       "      <td>12759670</td>\n",
       "    </tr>\n",
       "    <tr>\n",
       "      <th>99</th>\n",
       "      <td>Solomon Hill</td>\n",
       "      <td>Small Forward</td>\n",
       "      <td>12758781</td>\n",
       "    </tr>\n",
       "  </tbody>\n",
       "</table>\n",
       "<p>100 rows × 3 columns</p>\n",
       "</div>"
      ],
      "text/plain": [
       "                    player             pos    salary\n",
       "0            Stephen Curry     Point Guard  40231758\n",
       "1               Chris Paul     Point Guard  38506482\n",
       "2        Russell Westbrook     Point Guard  38506482\n",
       "3             James Harden  Shooting Guard  38199000\n",
       "4             Kevin Durant   Small Forward  38199000\n",
       "..                     ...             ...       ...\n",
       "95  Michael Kidd-Gilchrist   Small Forward  13000000\n",
       "96          Thaddeus Young   Power Forward  12900000\n",
       "97             Will Barton  Shooting Guard  12776786\n",
       "98            Courtney Lee  Shooting Guard  12759670\n",
       "99            Solomon Hill   Small Forward  12758781\n",
       "\n",
       "[100 rows x 3 columns]"
      ]
     },
     "execution_count": 12,
     "metadata": {},
     "output_type": "execute_result"
    }
   ],
   "source": [
    "def get_nba_salary():\n",
    "    \"\"\"\n",
    "    Get NBA players' salary from SPORTRAC.COM\n",
    "    \"\"\"\n",
    "    nba_salary_ranking_url = \"https://www.spotrac.com/nba/rankings/\"\n",
    "    html_doc = pq(nba_salary_ranking_url)\n",
    "    player_css = \".team-name\"\n",
    "    pos_css = \".rank-position\"\n",
    "    salary_css = \".info\"\n",
    "    players = [p.text for p in html_doc(player_css)]\n",
    "    positions = [p.text for p in html_doc(pos_css)]\n",
    "    salaries = [s.text.replace(\"$\", \"\") for s in html_doc(salary_css)]\n",
    "    salaries = [int(s.replace(\",\", \"\")) for s in salaries]\n",
    "    df = pd.DataFrame()\n",
    "    df[\"player\"] = players\n",
    "    df[\"pos\"] = positions\n",
    "    df[\"salary\"] = salaries\n",
    "    return df\n",
    "\n",
    "nba_salary = get_nba_salary()\n",
    "nba_salary"
   ]
  },
  {
   "cell_type": "code",
   "execution_count": 13,
   "metadata": {
    "scrolled": true
   },
   "outputs": [
    {
     "data": {
      "image/png": "[encoded data removed]",
      "text/plain": [
       "<Figure size 432x288 with 1 Axes>"
      ]
     },
     "metadata": {
      "needs_background": "light"
     },
     "output_type": "display_data"
    }
   ],
   "source": [
    "#方法一\n",
    "plt.hist(nba_salary[\"salary\"], bins=15)\n",
    "plt.show()"
   ]
  },
  {
   "cell_type": "code",
   "execution_count": 14,
   "metadata": {},
   "outputs": [
    {
     "data": {
      "image/png": "[encoded data removed]",
      "text/plain": [
       "<Figure size 432x288 with 1 Axes>"
      ]
     },
     "metadata": {
      "needs_background": "light"
     },
     "output_type": "display_data"
    }
   ],
   "source": [
    "#方法二\n",
    "nba_salary[\"salary\"].plot.hist(bins=15)\n",
    "plt.show()"
   ]
  },
  {
   "cell_type": "markdown",
   "metadata": {},
   "source": [
    "## 案例4：一組數值資料依類別分組的分佈\n",
    "\n",
    "例如: 想知道NBA球員**依照不同衝鋒位置的年薪分佈**  \n",
    "依照類別分組 >> 畫盒鬚圖"
   ]
  },
  {
   "cell_type": "code",
   "execution_count": 15,
   "metadata": {
    "scrolled": true
   },
   "outputs": [
    {
     "data": {
      "text/html": [
       "<div>\n",
       "<style scoped>\n",
       "    .dataframe tbody tr th:only-of-type {\n",
       "        vertical-align: middle;\n",
       "    }\n",
       "\n",
       "    .dataframe tbody tr th {\n",
       "        vertical-align: top;\n",
       "    }\n",
       "\n",
       "    .dataframe thead th {\n",
       "        text-align: right;\n",
       "    }\n",
       "</style>\n",
       "<table border=\"1\" class=\"dataframe\">\n",
       "  <thead>\n",
       "    <tr style=\"text-align: right;\">\n",
       "      <th>pos</th>\n",
       "      <th>Center</th>\n",
       "      <th>Point Guard</th>\n",
       "      <th>Power Forward</th>\n",
       "      <th>Shooting Guard</th>\n",
       "      <th>Small Forward</th>\n",
       "    </tr>\n",
       "    <tr>\n",
       "      <th>player</th>\n",
       "      <th></th>\n",
       "      <th></th>\n",
       "      <th></th>\n",
       "      <th></th>\n",
       "      <th></th>\n",
       "    </tr>\n",
       "  </thead>\n",
       "  <tbody>\n",
       "    <tr>\n",
       "      <th>Aaron Gordon</th>\n",
       "      <td>NaN</td>\n",
       "      <td>NaN</td>\n",
       "      <td>19863636.0</td>\n",
       "      <td>NaN</td>\n",
       "      <td>NaN</td>\n",
       "    </tr>\n",
       "    <tr>\n",
       "      <th>Al Horford</th>\n",
       "      <td>28000000.0</td>\n",
       "      <td>NaN</td>\n",
       "      <td>NaN</td>\n",
       "      <td>NaN</td>\n",
       "      <td>NaN</td>\n",
       "    </tr>\n",
       "    <tr>\n",
       "      <th>Allen Crabbe</th>\n",
       "      <td>NaN</td>\n",
       "      <td>NaN</td>\n",
       "      <td>NaN</td>\n",
       "      <td>18500000.0</td>\n",
       "      <td>NaN</td>\n",
       "    </tr>\n",
       "    <tr>\n",
       "      <th>Andre Drummond</th>\n",
       "      <td>27093019.0</td>\n",
       "      <td>NaN</td>\n",
       "      <td>NaN</td>\n",
       "      <td>NaN</td>\n",
       "      <td>NaN</td>\n",
       "    </tr>\n",
       "    <tr>\n",
       "      <th>Andre Iguodala</th>\n",
       "      <td>NaN</td>\n",
       "      <td>NaN</td>\n",
       "      <td>NaN</td>\n",
       "      <td>NaN</td>\n",
       "      <td>17185185.0</td>\n",
       "    </tr>\n",
       "    <tr>\n",
       "      <th>...</th>\n",
       "      <td>...</td>\n",
       "      <td>...</td>\n",
       "      <td>...</td>\n",
       "      <td>...</td>\n",
       "      <td>...</td>\n",
       "    </tr>\n",
       "    <tr>\n",
       "      <th>Tristan Thompson</th>\n",
       "      <td>18539130.0</td>\n",
       "      <td>NaN</td>\n",
       "      <td>NaN</td>\n",
       "      <td>NaN</td>\n",
       "      <td>NaN</td>\n",
       "    </tr>\n",
       "    <tr>\n",
       "      <th>Tyler Johnson</th>\n",
       "      <td>NaN</td>\n",
       "      <td>NaN</td>\n",
       "      <td>NaN</td>\n",
       "      <td>19245370.0</td>\n",
       "      <td>NaN</td>\n",
       "    </tr>\n",
       "    <tr>\n",
       "      <th>Victor Oladipo</th>\n",
       "      <td>NaN</td>\n",
       "      <td>NaN</td>\n",
       "      <td>NaN</td>\n",
       "      <td>21000000.0</td>\n",
       "      <td>NaN</td>\n",
       "    </tr>\n",
       "    <tr>\n",
       "      <th>Will Barton</th>\n",
       "      <td>NaN</td>\n",
       "      <td>NaN</td>\n",
       "      <td>NaN</td>\n",
       "      <td>12776786.0</td>\n",
       "      <td>NaN</td>\n",
       "    </tr>\n",
       "    <tr>\n",
       "      <th>Zach LaVine</th>\n",
       "      <td>NaN</td>\n",
       "      <td>NaN</td>\n",
       "      <td>NaN</td>\n",
       "      <td>19500000.0</td>\n",
       "      <td>NaN</td>\n",
       "    </tr>\n",
       "  </tbody>\n",
       "</table>\n",
       "<p>100 rows × 5 columns</p>\n",
       "</div>"
      ],
      "text/plain": [
       "pos                   Center  Point Guard  Power Forward  Shooting Guard  \\\n",
       "player                                                                     \n",
       "Aaron Gordon             NaN          NaN     19863636.0             NaN   \n",
       "Al Horford        28000000.0          NaN            NaN             NaN   \n",
       "Allen Crabbe             NaN          NaN            NaN      18500000.0   \n",
       "Andre Drummond    27093019.0          NaN            NaN             NaN   \n",
       "Andre Iguodala           NaN          NaN            NaN             NaN   \n",
       "...                      ...          ...            ...             ...   \n",
       "Tristan Thompson  18539130.0          NaN            NaN             NaN   \n",
       "Tyler Johnson            NaN          NaN            NaN      19245370.0   \n",
       "Victor Oladipo           NaN          NaN            NaN      21000000.0   \n",
       "Will Barton              NaN          NaN            NaN      12776786.0   \n",
       "Zach LaVine              NaN          NaN            NaN      19500000.0   \n",
       "\n",
       "pos               Small Forward  \n",
       "player                           \n",
       "Aaron Gordon                NaN  \n",
       "Al Horford                  NaN  \n",
       "Allen Crabbe                NaN  \n",
       "Andre Drummond              NaN  \n",
       "Andre Iguodala       17185185.0  \n",
       "...                         ...  \n",
       "Tristan Thompson            NaN  \n",
       "Tyler Johnson               NaN  \n",
       "Victor Oladipo              NaN  \n",
       "Will Barton                 NaN  \n",
       "Zach LaVine                 NaN  \n",
       "\n",
       "[100 rows x 5 columns]"
      ]
     },
     "execution_count": 15,
     "metadata": {},
     "output_type": "execute_result"
    }
   ],
   "source": [
    "box_df = nba_salary.pivot(index='player', columns='pos', values='salary')\n",
    "box_df\n"
   ]
  },
  {
   "cell_type": "code",
   "execution_count": 16,
   "metadata": {},
   "outputs": [
    {
     "data": {
      "text/plain": [
       "[array([28000000., 27093019., 17000000., 14896552., 14471910., 13333334.,\n",
       "        16229213., 27093019., 15450051., 27504630., 16000000., 13250000.,\n",
       "        27285000., 28942830., 25595700., 14041096., 18000000., 27504630.,\n",
       "        28000000., 25008427., 25842697., 18539130.]),\n",
       " array([15643750., 38506482., 27285000., 29802321., 15500000., 15625000.,\n",
       "        19217900., 19000000., 38199000., 13437500., 26996111., 32742000.,\n",
       "        34996296., 31742000., 20000000., 32511623., 18086957., 16200000.,\n",
       "        38506482., 40231758., 19894737.]),\n",
       " array([19863636., 27093019., 34449964., 15000000., 17650000., 18539130.,\n",
       "        25842697., 15349400., 18000000., 27285000., 26000000., 15000000.,\n",
       "        15006250., 30350000., 23271605., 12900000.]),\n",
       " array([18500000., 27093019., 27556959., 12759670., 14634146., 27739975.,\n",
       "        27285000., 14057730., 17150000., 17839286., 13486300., 38199000.,\n",
       "        32742000., 19269662., 32742000., 25565217., 20025127., 19245370.,\n",
       "        21000000., 12776786., 19500000.]),\n",
       " array([17185185., 27504630., 17000000., 25102511., 22615559., 18606557.,\n",
       "        32700690., 24147727., 13000000., 32742000., 15625000., 38199000.,\n",
       "        30603448., 37436858., 13000000., 27250575., 33005556., 14500000.,\n",
       "        12758781., 32742000.])]"
      ]
     },
     "execution_count": 16,
     "metadata": {},
     "output_type": "execute_result"
    }
   ],
   "source": [
    "data_to_plot = [box_df[col].values[~np.isnan(box_df[col].values)] for col in box_df.columns]\n",
    "data_to_plot"
   ]
  },
  {
   "cell_type": "code",
   "execution_count": 17,
   "metadata": {
    "scrolled": true
   },
   "outputs": [
    {
     "data": {
      "image/png": "[encoded data removed]",
      "text/plain": [
       "<Figure size 432x288 with 1 Axes>"
      ]
     },
     "metadata": {
      "needs_background": "light"
     },
     "output_type": "display_data"
    }
   ],
   "source": [
    "#方法一\n",
    "plt.boxplot(data_to_plot)\n",
    "plt.xticks(range(1, 6), box_df.columns)\n",
    "plt.show()"
   ]
  },
  {
   "cell_type": "code",
   "execution_count": 18,
   "metadata": {},
   "outputs": [
    {
     "data": {
      "image/png": "[encoded data removed]",
      "text/plain": [
       "<Figure size 432x288 with 1 Axes>"
      ]
     },
     "metadata": {
      "needs_background": "light"
     },
     "output_type": "display_data"
    }
   ],
   "source": [
    "#方法二\n",
    "box_df.plot.box()\n",
    "plt.show()"
   ]
  },
  {
   "cell_type": "markdown",
   "metadata": {},
   "source": [
    "## 案例5：兩組數值資料的相關\n",
    "\n",
    "例如: 想知道NBA球員**年薪與平均每場得分的相關性**  \n"
   ]
  },
  {
   "cell_type": "code",
   "execution_count": null,
   "metadata": {
    "scrolled": false
   },
   "outputs": [],
   "source": [
    "from requests import get\n",
    "\n",
    "def get_pts_game():\n",
    "    \"\"\"\n",
    "    Get NBA players' PTS/G from NBA.com\n",
    "    \"\"\"\n",
    "    nba_stats_url = \"https://stats.nba.com/stats/leagueLeaders?LeagueID=00&PerMode=PerGame&Scope=S&Season=2017-18&SeasonType=Regular+Season&StatCategory=PTS\"\n",
    "    pts_game_dict = get(nba_stats_url).json()\n",
    "    players = [pts_game_dict[\"resultSet\"][\"rowSet\"][i][2] for i in range(len(pts_game_dict[\"resultSet\"][\"rowSet\"]))]\n",
    "    pts_game = [pts_game_dict[\"resultSet\"][\"rowSet\"][i][22] for i in range(len(pts_game_dict[\"resultSet\"][\"rowSet\"]))]\n",
    "    df = pd.DataFrame()\n",
    "    df[\"player\"] = players\n",
    "    df[\"pts_game\"] = pts_game\n",
    "    return df\n",
    "\n",
    "\n",
    "pts_game = get_pts_game()\n",
    "df = pd.merge(nba_salary, pts_game)"
   ]
  },
  {
   "cell_type": "code",
   "execution_count": null,
   "metadata": {},
   "outputs": [],
   "source": [
    "#方法一\n",
    "plt.scatter(df[\"pts_game\"], df[\"salary\"])\n",
    "plt.show()"
   ]
  },
  {
   "cell_type": "code",
   "execution_count": null,
   "metadata": {},
   "outputs": [],
   "source": [
    "#方法二\n",
    "df.plot.scatter(\"pts_game\", \"salary\")\n",
    "plt.show()"
   ]
  },
  {
   "cell_type": "markdown",
   "metadata": {},
   "source": [
    "## 案例6：數值資料隨著日期時間變動趨勢\n",
    "\n",
    "例如: 想知道NBA球員Paul Pierce **每一個利平均每場得分、助攻、籃板變動趨勢**  "
   ]
  },
  {
   "cell_type": "code",
   "execution_count": 19,
   "metadata": {},
   "outputs": [],
   "source": [
    "def get_pp_stats():\n",
    "    \"\"\"\n",
    "    Get Paul Pierce stats from basketball-reference.com\n",
    "    \"\"\"\n",
    "    stats_url = \"https://www.basketball-reference.com/players/p/piercpa01.html\"\n",
    "    html_doc = pq(stats_url)\n",
    "    pts_css = \"#per_game .full_table .right:nth-child(30)\"\n",
    "    ast_css = \"#per_game .full_table .right:nth-child(25)\"\n",
    "    reb_css = \"#per_game .full_table .right:nth-child(24)\"\n",
    "    year = [str(i)+\"-01-01\" for i in range(1999, 2018)]\n",
    "    pts = [float(p.text) for p in html_doc(pts_css)]\n",
    "    ast = [float(a.text) for a in html_doc(ast_css)]\n",
    "    reb = [float(r.text) for r in html_doc(reb_css)]\n",
    "    df = pd.DataFrame()\n",
    "    df[\"year\"] = year\n",
    "    df[\"pts\"] = pts\n",
    "    df[\"ast\"] = ast\n",
    "    df[\"reb\"] = reb\n",
    "    return df\n",
    "\n",
    "pp_stats = get_pp_stats()\n",
    "pp_stats[\"year\"] = pd.to_datetime(pp_stats[\"year\"])\n",
    "pp_stats = pp_stats.set_index(\"year\")"
   ]
  },
  {
   "cell_type": "code",
   "execution_count": 20,
   "metadata": {
    "scrolled": true
   },
   "outputs": [
    {
     "data": {
      "image/png": "[encoded data removed]",
      "text/plain": [
       "<Figure size 432x288 with 1 Axes>"
      ]
     },
     "metadata": {
      "needs_background": "light"
     },
     "output_type": "display_data"
    }
   ],
   "source": [
    "#方法一\n",
    "plt.plot(pp_stats[\"pts\"])#得分\n",
    "plt.plot(pp_stats[\"reb\"])#籃板\n",
    "plt.plot(pp_stats[\"ast\"])#助攻\n",
    "plt.legend(['PTS', 'REB', 'AST'], loc='upper right') #加入圖例\n",
    "plt.show()"
   ]
  },
  {
   "cell_type": "code",
   "execution_count": 21,
   "metadata": {},
   "outputs": [
    {
     "data": {
      "image/png": "[encoded data removed]",
      "text/plain": [
       "<Figure size 432x288 with 1 Axes>"
      ]
     },
     "metadata": {
      "needs_background": "light"
     },
     "output_type": "display_data"
    }
   ],
   "source": [
    "#方法二\n",
    "pp_stats.plot.line()\n",
    "plt.show()"
   ]
  }
 ],
 "metadata": {
  "kernelspec": {
   "display_name": "Python 3",
   "language": "python",
   "name": "python3"
  },
  "language_info": {
   "codemirror_mode": {
    "name": "ipython",
    "version": 3
   },
   "file_extension": ".py",
   "mimetype": "text/x-python",
   "name": "python",
   "nbconvert_exporter": "python",
   "pygments_lexer": "ipython3",
   "version": "3.6.10"
  }
 },
 "nbformat": 4,
 "nbformat_minor": 2
}
