{
 "cells": [
  {
   "cell_type": "markdown",
   "metadata": {},
   "source": [
    "# 文字處理"
   ]
  },
  {
   "cell_type": "code",
   "execution_count": 1,
   "metadata": {},
   "outputs": [],
   "source": [
    "shaq = \"Shaquille O'Neal\""
   ]
  },
  {
   "cell_type": "markdown",
   "metadata": {},
   "source": [
    "## 測量長度"
   ]
  },
  {
   "cell_type": "code",
   "execution_count": 2,
   "metadata": {
    "scrolled": true
   },
   "outputs": [
    {
     "data": {
      "text/plain": [
       "16"
      ]
     },
     "execution_count": 2,
     "metadata": {},
     "output_type": "execute_result"
    }
   ],
   "source": [
    "len(shaq)"
   ]
  },
  {
   "cell_type": "markdown",
   "metadata": {},
   "source": [
    "##大小寫"
   ]
  },
  {
   "cell_type": "markdown",
   "metadata": {},
   "source": [
    ".upper() 全部變大寫  \n",
    ".lower() 全部變小寫  \n",
    ".title() 單字字首大寫  \n",
    ".capitalize() 字手變成大寫  \n",
    ".swapcase() 大小寫轉換  "
   ]
  },
  {
   "cell_type": "code",
   "execution_count": 3,
   "metadata": {
    "scrolled": false
   },
   "outputs": [
    {
     "name": "stdout",
     "output_type": "stream",
     "text": [
      "Shaquille O'Neal\n",
      "全部變大寫 SHAQUILLE O'NEAL\n",
      "全部變小寫 shaquille o'neal\n",
      "單字字首大寫  Shaquille O'Neal\n",
      "字手變成大寫 Shaquille o'neal\n",
      "大小寫轉換  sHAQUILLE o'nEAL\n"
     ]
    }
   ],
   "source": [
    "print(shaq)\n",
    "print('全部變大寫',shaq.upper())\n",
    "print('全部變小寫',shaq.lower())\n",
    "print('單字字首大寫 ',shaq.lower().title())\n",
    "print('字手變成大寫',shaq.capitalize())\n",
    "print('大小寫轉換 ',shaq.swapcase())"
   ]
  },
  {
   "cell_type": "markdown",
   "metadata": {},
   "source": [
    "## 擷取"
   ]
  },
  {
   "cell_type": "code",
   "execution_count": 4,
   "metadata": {},
   "outputs": [
    {
     "name": "stdout",
     "output_type": "stream",
     "text": [
      "Shaq\n",
      "O'Neal\n"
     ]
    }
   ],
   "source": [
    "nickname = shaq[:4]\n",
    "family_name = shaq[10:]\n",
    "print(nickname)\n",
    "print(family_name)"
   ]
  },
  {
   "cell_type": "markdown",
   "metadata": {},
   "source": [
    "## 去除空格\n",
    ".lstrip() 去除左邊空格  \n",
    ".rstrip() 去除右邊空格  \n",
    ".strip() 去除左右兩邊空格  "
   ]
  },
  {
   "cell_type": "code",
   "execution_count": 5,
   "metadata": {},
   "outputs": [
    {
     "name": "stdout",
     "output_type": "stream",
     "text": [
      "原始      Shaquille O'Neal     \n",
      "去除左邊空格  Shaquille O'Neal     \n",
      "去除右邊空格       Shaquille O'Neal\n",
      "去除左右兩邊空格 Shaquille O'Neal\n"
     ]
    }
   ],
   "source": [
    "shaq = \"     Shaquille O'Neal     \"\n",
    "print('原始',shaq)\n",
    "print('去除左邊空格 ',shaq.lstrip())\n",
    "print('去除右邊空格 ',shaq.rstrip())\n",
    "print('去除左右兩邊空格',shaq.strip())"
   ]
  },
  {
   "cell_type": "markdown",
   "metadata": {},
   "source": [
    "## 格式化輸出\n",
    "{} 搭配 .format()"
   ]
  },
  {
   "cell_type": "code",
   "execution_count": 6,
   "metadata": {
    "scrolled": true
   },
   "outputs": [
    {
     "name": "stdout",
     "output_type": "stream",
     "text": [
      "The net worth of Stark Industries is $12400000000 USD.\n",
      "The net worth of Stark Industries is $12,400,000,000 USD.\n",
      "The net worth of Stark Industries is $12,400,000,000.00 USD.\n"
     ]
    }
   ],
   "source": [
    "asset_tony_stark = 12400000000\n",
    "print(\"The net worth of Stark Industries is ${} USD.\".format(asset_tony_stark))\n",
    "print(\"The net worth of Stark Industries is ${:,} USD.\".format(asset_tony_stark))\n",
    "print(\"The net worth of Stark Industries is ${:,.2f} USD.\".format(asset_tony_stark))"
   ]
  },
  {
   "cell_type": "markdown",
   "metadata": {},
   "source": [
    "## 轉換日期時間格式\n",
    "%a ：縮寫的星期幾，從 Sun 至 Sat  \n",
    "%A ：全稱的星期幾，從 Sunday 至 Saturday  \n",
    "%b ：縮寫的月份，從 Jan 至 Dec  \n",
    "%B ：全稱的月份，從 January 至 December  \n",
    "%d ：月份中的第幾天，從 01 至 31  \n",
    "%m ：以兩位數字表示的月份，從 01 至 12  \n",
    "%Y ：以四位數字表示的西元年份，從 0 至 9999  \n",
    "%H ：以兩位數字表示的小時，從 00 至 23  \n",
    "%M ：以兩位數字表示的分鐘，從 00 至 59  \n",
    "%S ：以兩位數字表示的秒數，從 00 至 61  "
   ]
  },
  {
   "cell_type": "code",
   "execution_count": 7,
   "metadata": {},
   "outputs": [
    {
     "name": "stdout",
     "output_type": "stream",
     "text": [
      "2019-01-01 00:00:00\n",
      "2019-01-02 00:00:00\n",
      "2018-12-31 00:00:00\n",
      "01, January, 2019 00:00:00\n"
     ]
    }
   ],
   "source": [
    "from datetime import datetime, timedelta\n",
    "\n",
    "first_day_of_2019 = datetime.strptime('2019-01-01', '%Y-%m-%d')\n",
    "second_day_of_2019 = first_day_of_2019 + timedelta(days = 1)\n",
    "last_day_of_2018 = first_day_of_2019 - timedelta(days = 1)\n",
    "print(first_day_of_2019)\n",
    "print(second_day_of_2019)\n",
    "print(last_day_of_2018)\n",
    "print(first_day_of_2019.strftime('%d, %B, %Y %H:%M:%S'))"
   ]
  },
  {
   "cell_type": "markdown",
   "metadata": {},
   "source": [
    "## 分隔\n",
    "**.split()**"
   ]
  },
  {
   "cell_type": "code",
   "execution_count": 8,
   "metadata": {},
   "outputs": [
    {
     "name": "stdout",
     "output_type": "stream",
     "text": [
      "['Shaquille', \"O'Neal\"]\n",
      "[\"O'Neal\", 'Shaquille']\n"
     ]
    }
   ],
   "source": [
    "shaq = \"Shaquille O'Neal\"\n",
    "print(shaq.split(sep=\" \"))\n",
    "shaq = \"O'Neal, Shaquille\"\n",
    "print(shaq.split(sep=\", \"))"
   ]
  },
  {
   "cell_type": "markdown",
   "metadata": {},
   "source": [
    "## 判斷存在\n",
    "**.find()** 判斷第一個出現的索引值"
   ]
  },
  {
   "cell_type": "code",
   "execution_count": 9,
   "metadata": {},
   "outputs": [
    {
     "name": "stdout",
     "output_type": "stream",
     "text": [
      "True\n",
      "2\n"
     ]
    }
   ],
   "source": [
    "shaq = \"Shaquille O'Neal\"\n",
    "print('a' in shaq)\n",
    "print(shaq.find('a'))"
   ]
  },
  {
   "cell_type": "code",
   "execution_count": 13,
   "metadata": {},
   "outputs": [
    {
     "data": {
      "text/plain": [
       "[2, 14]"
      ]
     },
     "execution_count": 13,
     "metadata": {},
     "output_type": "execute_result"
    }
   ],
   "source": [
    "shaq = \"Shaquille O'Neal\"\n",
    "[idx for idx, val in enumerate(shaq) if val == 'a']"
   ]
  },
  {
   "cell_type": "markdown",
   "metadata": {},
   "source": [
    "## 取代\n",
    "**.replace()**"
   ]
  },
  {
   "cell_type": "code",
   "execution_count": 14,
   "metadata": {
    "scrolled": true
   },
   "outputs": [
    {
     "name": "stdout",
     "output_type": "stream",
     "text": [
      "ShAquille O'NeAl\n"
     ]
    }
   ],
   "source": [
    "shaq = \"Shaquille O'Neal\"\n",
    "print(shaq.replace('a', 'A'))"
   ]
  },
  {
   "cell_type": "markdown",
   "metadata": {},
   "source": [
    "## 正規表達式 (Regular Expression)\n",
    "\n",
    "常用正規特殊字元\n",
    ". ：任意文字  \n",
    "^ ：開頭文字  \n",
    "$ ：結束文字  \n",
    "? ：文字出現零次到一次  \n",
    "*：文字出現零次到多次  \n",
    "+：文字出現一次到多次  \n",
    "{m} ：文字剛好出現 m 次  \n",
    "{m, n} ：文字出現次數介於 m 次與 n 次之間（m < n）  \n",
    "[] ：文字組合  \n",
    "\\ ：跳脫符號  \n",
    "\\s ：空格  \n",
    "\n",
    "\n",
    "在python中，re模組可以採取正規表達式來做分隔、判斷、取代的特徵  \n",
    "**import re**  \n",
    "re.split() 分隔  \n",
    "re.findall() 判斷空格  \n",
    "re.sub() 取代"
   ]
  },
  {
   "cell_type": "code",
   "execution_count": 16,
   "metadata": {},
   "outputs": [
    {
     "name": "stdout",
     "output_type": "stream",
     "text": [
      "Shaquille O'Neal\n",
      "['Shaquille', \"O'Neal\"]\n",
      "True\n",
      "Shaquille;O'Neal\n"
     ]
    }
   ],
   "source": [
    "import re\n",
    "\n",
    "shaq = \"Shaquille O'Neal\"\n",
    "print(shaq)\n",
    "print(re.split(pattern=\"\\s+\", string=shaq))             # 以空格分隔\n",
    "print(len(re.findall(pattern=\"\\s+\", string=shaq)) > 0)  # 判斷是否有空格\n",
    "print(re.sub(pattern=\"\\s+\", repl=';', string=shaq))     # 將空格取代為分號"
   ]
  },
  {
   "cell_type": "code",
   "execution_count": 17,
   "metadata": {},
   "outputs": [
    {
     "name": "stdout",
     "output_type": "stream",
     "text": [
      "['Steve Nash', 'Michael Jordan', 'Paul Pierce', 'Kevin Garnett', \"Shaquille O'Neal\"]\n",
      "['Stv Nsh', 'Mchl Jrdn', 'Pl Prc', 'Kvn Grntt', \"Shqll 'Nl\"]\n"
     ]
    }
   ],
   "source": [
    "def remove_vowels(x):\n",
    "    ans = re.sub(pattern=\"[aeiouAEIOU]+\", repl=\"\", string=x)\n",
    "    return ans\n",
    "\n",
    "fav_players = [\"Steve Nash\", \"Michael Jordan\", \"Paul Pierce\", \"Kevin Garnett\", \"Shaquille O'Neal\"]\n",
    "print(fav_players)                           # 移除母音前\n",
    "print(list(map(remove_vowels, fav_players))) # 移除母音後"
   ]
  }
 ],
 "metadata": {
  "kernelspec": {
   "display_name": "Python 3",
   "language": "python",
   "name": "python3"
  },
  "language_info": {
   "codemirror_mode": {
    "name": "ipython",
    "version": 3
   },
   "file_extension": ".py",
   "mimetype": "text/x-python",
   "name": "python",
   "nbconvert_exporter": "python",
   "pygments_lexer": "ipython3",
   "version": "3.5.5"
  }
 },
 "nbformat": 4,
 "nbformat_minor": 2
}
